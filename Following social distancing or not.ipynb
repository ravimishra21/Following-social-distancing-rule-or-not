{
 "cells": [
  {
   "cell_type": "code",
   "execution_count": 1,
   "metadata": {},
   "outputs": [],
   "source": [
    "import cv2"
   ]
  },
  {
   "cell_type": "code",
   "execution_count": 2,
   "metadata": {},
   "outputs": [],
   "source": [
    "\n",
    "\n",
    "faceCascade = cv2.CascadeClassifier('face.xml')\n",
    "\n",
    "image = cv2.imread('face4.jpg')\n",
    "\n",
    "gray = cv2.cvtColor(image, cv2.COLOR_BGR2GRAY) "
   ]
  },
  {
   "cell_type": "code",
   "execution_count": 3,
   "metadata": {},
   "outputs": [
    {
     "name": "stdout",
     "output_type": "stream",
     "text": [
      "[[ 37  27  35  35]\n",
      " [206  29  38  38]\n",
      " [ 87  47  33  33]]\n"
     ]
    }
   ],
   "source": [
    "faces=faceCascade.detectMultiScale(gray,scaleFactor=1.2,minNeighbors=5,minSize=(20, 20))\n",
    "print(faces)"
   ]
  },
  {
   "cell_type": "code",
   "execution_count": 4,
   "metadata": {},
   "outputs": [
    {
     "name": "stdout",
     "output_type": "stream",
     "text": [
      "[37, 27]\n",
      "[206, 29]\n",
      "[87, 47]\n",
      "[[37, 27], [206, 29], [87, 47]]\n"
     ]
    }
   ],
   "source": [
    "l=[]\n",
    "i=1\n",
    "lf=[]\n",
    "for (x,y,w,h) in faces:\n",
    "    cv2.rectangle(image,(x,y),(x+w,y+h),(255,0,0),4)\n",
    "    s=str(i)\n",
    "    cv2.putText(image,s,(x,y),cv2.FONT_HERSHEY_SIMPLEX,1,(0,0,255),2)\n",
    "    i=i+1\n",
    "    l=[]\n",
    "    l.append(x)\n",
    "    l.append(y)\n",
    "    lf.append(l)\n",
    "    print(l)\n",
    "    #print(lf)\n",
    "print(lf)"
   ]
  },
  {
   "cell_type": "code",
   "execution_count": 5,
   "metadata": {},
   "outputs": [
    {
     "name": "stdout",
     "output_type": "stream",
     "text": [
      "[37, 27]\n",
      "[206, 29]\n",
      "169.01183390520322\n",
      "[87, 47]\n",
      "53.85164807134504\n",
      "[206, 29]\n",
      "[87, 47]\n",
      "120.3536455617361\n",
      "[87, 47]\n",
      "Person1 and Person3;Person2 and Person3;Person3 and Person3;are not following social distancing\n"
     ]
    }
   ],
   "source": [
    "close_person=\"\"\n",
    "import math\n",
    "for i in range(len(lf)):\n",
    "    print(lf[i])\n",
    "    \n",
    "    for j in range(i+1,len(lf)):\n",
    "        print(lf[j])\n",
    "        d=math.sqrt(((lf[j][1]-lf[i][1])**2)+((lf[j][0]-lf[i][0])**2))\n",
    "        print(d)\n",
    "       \n",
    "    if d<400:\n",
    "        close_person = close_person+ \"Person\"+str(i+1)+\" and Person\"+str(j+1)+\";\"\n",
    "close_person+=\"are not following social distancing\"\n",
    "print(close_person)\n"
   ]
  },
  {
   "cell_type": "code",
   "execution_count": null,
   "metadata": {},
   "outputs": [],
   "source": [
    "#import opencv2\n",
    "cv2.imshow('Following social distancinhg or Not',image)\n",
    "\n",
    "\n",
    "\n",
    "cv2.waitKey(0)\n",
    " "
   ]
  },
  {
   "cell_type": "code",
   "execution_count": null,
   "metadata": {},
   "outputs": [],
   "source": []
  }
 ],
 "metadata": {
  "kernelspec": {
   "display_name": "Python 3",
   "language": "python",
   "name": "python3"
  },
  "language_info": {
   "codemirror_mode": {
    "name": "ipython",
    "version": 3
   },
   "file_extension": ".py",
   "mimetype": "text/x-python",
   "name": "python",
   "nbconvert_exporter": "python",
   "pygments_lexer": "ipython3",
   "version": "3.7.4"
  }
 },
 "nbformat": 4,
 "nbformat_minor": 2
}
